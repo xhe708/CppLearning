{
 "cells": [
  {
   "cell_type": "markdown",
   "id": "1357d870",
   "metadata": {},
   "source": [
    "# 基础篇\n",
    "## 01 Heap/Stack/RAII\n",
    "> 知识点： \n",
    "> * new/delete的底层实现为malloc/free   \n",
    "> * 当出现异常时，会发生栈展开(stack unwinding). 栈上变量的析构函数会被调用，所以即使有异常，也不用担心栈上的内存泄露。\n",
    "> * 使用派生类赋值于一个基类，必须使用指针。如果直接赋值，则会出现对象切片现象(object slicing), 也就是说，派生类的数据丢失了.\n",
    "\n",
    "虽然栈不用担心内存泄露，但在栈上将对象实例化并不一定是一个好的选择，因为对象往往非常占用空间而栈的空间又非常珍贵。当然，也不要走极端，在栈上还是堆上建立实例取决于具体的使用场景。\n",
    "\n",
    "## 02 智能指针\n",
    "还是不能过分神话智能指针，因为说到底它还是指针而已，只不过多了一些功能来帮助我们管理指针的生命周期。\n",
    "大体上，智能指针的可以提供如下功能：\n",
    "* 析构时自动释放内存 (基于RAII)\n",
    "* 支持运算符*解引用\n",
    "* 支持运算符->指向对象成员\n",
    "* 支持布尔表达式\n",
    "* 线程安全\n",
    "* 支持指针类型转换\n",
    "\n",
    "如果是unique_ptr，则会：\n",
    "* 禁止赋值构造\n",
    "* 仅允许移动构造\n",
    "\n",
    "如果是shared_ptr，则会：\n",
    "* 支持计数器\n",
    " * 赋值构造时，计数器加一\n",
    " * 析构时，计数器减一\n",
    " * 计数器为0时，释放指针内存\n",
    "* 支持自循环"
   ]
  },
  {
   "cell_type": "code",
   "execution_count": 1,
   "id": "baf61d67",
   "metadata": {},
   "outputs": [],
   "source": [
    "#include <utility>\n",
    "\n",
    "template<typename T>\n",
    "class smart_ptr\n",
    "{\n",
    "public:\n",
    "    explicit smart_ptr(T* ptr = nullptr){ptr_ = ptr;}\n",
    "    ~smart_ptr(){delete ptr_;}\n",
    "    \n",
    "    T& operator*() const {return *ptr_;}\n",
    "    T* operator->() const {return ptr_;}\n",
    "    operator bool() const {return (ptr_ != nullptr);}\n",
    "    \n",
    "    smart_ptr(smart_ptr&& other){\n",
    "        ptr_ = other.release();\n",
    "    }\n",
    "    \n",
    "    T& operator=(smart_ptr other){\n",
    "        other.swap(*this);\n",
    "        return *this;\n",
    "    }\n",
    "    \n",
    "    // 这个不算是移动构造函数\n",
    "    // 它可以帮助我们实现基类和派生类智能指针之间的赋值\n",
    "    template <typename U>\n",
    "    smart_ptr(smart_ptr<U>&& other)\n",
    "    {\n",
    "        ptr_ = other.release();\n",
    "    }\n",
    "    \n",
    "    // Release object\n",
    "    T* release(){\n",
    "        T* ptr = ptr_;\n",
    "        ptr_ = nullptr;\n",
    "        return ptr;\n",
    "    }\n",
    "    \n",
    "    void swap(smart_ptr& other){\n",
    "        std::swap(ptr_, other.ptr_);\n",
    "    }\n",
    "    \n",
    "private:\n",
    "    T* ptr_;\n",
    "};"
   ]
  },
  {
   "cell_type": "markdown",
   "id": "17035044",
   "metadata": {},
   "source": [
    "> 知识点： 如果提供了移动构造函数，而没有手动提供赋值构造函数，则后者会被禁用。"
   ]
  },
  {
   "cell_type": "code",
   "execution_count": null,
   "id": "a2d83e4b",
   "metadata": {},
   "outputs": [],
   "source": []
  }
 ],
 "metadata": {
  "kernelspec": {
   "display_name": "C++17",
   "language": "C++17",
   "name": "xcpp17"
  },
  "language_info": {
   "codemirror_mode": "text/x-c++src",
   "file_extension": ".cpp",
   "mimetype": "text/x-c++src",
   "name": "c++",
   "version": "17"
  }
 },
 "nbformat": 4,
 "nbformat_minor": 5
}
